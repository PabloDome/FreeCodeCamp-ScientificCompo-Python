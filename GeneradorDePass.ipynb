{
  "nbformat": 4,
  "nbformat_minor": 0,
  "metadata": {
    "colab": {
      "provenance": [],
      "authorship_tag": "ABX9TyPgR5n1F7X6ePo/+RN1Jmch",
      "include_colab_link": true
    },
    "kernelspec": {
      "name": "python3",
      "display_name": "Python 3"
    },
    "language_info": {
      "name": "python"
    }
  },
  "cells": [
    {
      "cell_type": "markdown",
      "metadata": {
        "id": "view-in-github",
        "colab_type": "text"
      },
      "source": [
        "<a href=\"https://colab.research.google.com/github/PabloDome/FreeCodeCamp-ScientificCompo-Python/blob/main/GeneradorDePass.ipynb\" target=\"_parent\"><img src=\"https://colab.research.google.com/assets/colab-badge.svg\" alt=\"Open In Colab\"/></a>"
      ]
    },
    {
      "cell_type": "code",
      "execution_count": 3,
      "metadata": {
        "colab": {
          "base_uri": "https://localhost:8080/"
        },
        "id": "dMnL0moaRKVr",
        "outputId": "bf9013c1-6413-41a0-b101-6f7d3cc0c999"
      },
      "outputs": [
        {
          "output_type": "stream",
          "name": "stdout",
          "text": [
            "abcdefghijklmnopqrstuvwxyzABCDEFGHIJKLMNOPQRSTUVWXYZ0123456789!\"#$%&'()*+,-./:;<=>?@[\\]^_`{|}~\n",
            "Elemento aleatorio: t\n"
          ]
        }
      ],
      "source": [
        "import random\n",
        "import string\n",
        "\n",
        "\n",
        "# Define the possible characters for the password\n",
        "letters = string.ascii_letters\n",
        "digits = string.digits\n",
        "symbols = string.punctuation\n",
        "\n",
        "# Combine all characters\n",
        "all_characters = letters + digits + symbols\n",
        "\n",
        "print(all_characters)\n",
        "print('Elemento aleatorio: ' + random.choice(all_characters)) # con random.choise(Arg), elige un valor rand de Arg"
      ]
    }
  ]
}