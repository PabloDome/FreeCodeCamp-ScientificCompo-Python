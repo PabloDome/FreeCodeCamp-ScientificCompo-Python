{
  "nbformat": 4,
  "nbformat_minor": 0,
  "metadata": {
    "colab": {
      "provenance": [],
      "authorship_tag": "ABX9TyMxb7Zh2xSTR6TDMHZWjTTV",
      "include_colab_link": true
    },
    "kernelspec": {
      "name": "python3",
      "display_name": "Python 3"
    },
    "language_info": {
      "name": "python"
    }
  },
  "cells": [
    {
      "cell_type": "markdown",
      "metadata": {
        "id": "view-in-github",
        "colab_type": "text"
      },
      "source": [
        "<a href=\"https://colab.research.google.com/github/PabloDome/FreeCodeCamp-ScientificCompo-Python/blob/main/GeneradorDePass.ipynb\" target=\"_parent\"><img src=\"https://colab.research.google.com/assets/colab-badge.svg\" alt=\"Open In Colab\"/></a>"
      ]
    },
    {
      "cell_type": "code",
      "execution_count": 6,
      "metadata": {
        "colab": {
          "base_uri": "https://localhost:8080/"
        },
        "id": "dMnL0moaRKVr",
        "outputId": "e2b514b8-e1c3-475e-f3ad-6e615e32ee7a"
      },
      "outputs": [
        {
          "output_type": "stream",
          "name": "stdout",
          "text": [
            "Elemento aleatorio: /\n",
            "Pass de 8 digitos: S7_?@!|7\n"
          ]
        }
      ],
      "source": [
        "import random\n",
        "import string\n",
        "import secrets# este modulo es similar a random, pero para generar tokens de seguridad\n",
        "\n",
        "# Define the possible characters for the password\n",
        "letters = string.ascii_letters\n",
        "digits = string.digits\n",
        "symbols = string.punctuation\n",
        "\n",
        "# Combine all characters\n",
        "all_characters = letters + digits + symbols\n",
        "\n",
        "print('Elemento aleatorio: ' + random.choice(all_characters)) # con random.choise(Arg), elige un valor rand de Arg\n",
        "\n",
        "# Función para generar un password\n",
        "def generate_password(length):\n",
        "    # Define the possible characters for the password\n",
        "    letters = string.ascii_letters\n",
        "    digits = string.digits\n",
        "    symbols = string.punctuation\n",
        "\n",
        "    # Combine all characters\n",
        "    all_characters = letters + digits + symbols\n",
        "\n",
        "    password = ''\n",
        "    # Generate password\n",
        "    for _ in range(length):\n",
        "        password += secrets.choice(all_characters)\n",
        "\n",
        "    return password\n",
        "\n",
        "print('Pass de 8 digitos: ' + generate_password(8))"
      ]
    }
  ]
}