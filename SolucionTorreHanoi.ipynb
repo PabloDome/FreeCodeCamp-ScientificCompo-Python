{
  "nbformat": 4,
  "nbformat_minor": 0,
  "metadata": {
    "colab": {
      "provenance": [],
      "authorship_tag": "ABX9TyODmU1f0S0/aMez6obRWSIK",
      "include_colab_link": true
    },
    "kernelspec": {
      "name": "python3",
      "display_name": "Python 3"
    },
    "language_info": {
      "name": "python"
    }
  },
  "cells": [
    {
      "cell_type": "markdown",
      "metadata": {
        "id": "view-in-github",
        "colab_type": "text"
      },
      "source": [
        "<a href=\"https://colab.research.google.com/github/PabloDome/FreeCodeCamp-ScientificCompo-Python/blob/main/SolucionTorreHanoi.ipynb\" target=\"_parent\"><img src=\"https://colab.research.google.com/assets/colab-badge.svg\" alt=\"Open In Colab\"/></a>"
      ]
    },
    {
      "cell_type": "code",
      "execution_count": 11,
      "metadata": {
        "id": "8Ji9W2YFwAGN",
        "colab": {
          "base_uri": "https://localhost:8080/"
        },
        "outputId": "6fb9211f-370f-428e-b5ca-96c058de6b12"
      },
      "outputs": [
        {
          "output_type": "stream",
          "name": "stdout",
          "text": [
            "{'A': range(3, 0, -1), 'B': [], 'C': []}\n"
          ]
        }
      ],
      "source": [
        "NUMBER_OF_DISKS = 3\n",
        "number_of_moves = 2**NUMBER_OF_DISKS - 1\n",
        "rods = {\n",
        "    'A': list(range(NUMBER_OF_DISKS, 0, -1)),\n",
        "    'B': [],\n",
        "    'C': []\n",
        "}\n",
        "\n",
        "def move(n, source, auxiliary, target):\n",
        "\n",
        "    print(rods)\n",
        "\n",
        "\n",
        "# initiate call from source A to target C with auxiliary B\n",
        "move(NUMBER_OF_DISKS, 'A', 'B', 'C')"
      ]
    }
  ]
}