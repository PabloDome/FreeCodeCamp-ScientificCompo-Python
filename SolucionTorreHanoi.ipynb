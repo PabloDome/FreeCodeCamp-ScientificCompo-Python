{
  "nbformat": 4,
  "nbformat_minor": 0,
  "metadata": {
    "colab": {
      "provenance": [],
      "authorship_tag": "ABX9TyOdktaLNTGXRcXBMfADOu8L",
      "include_colab_link": true
    },
    "kernelspec": {
      "name": "python3",
      "display_name": "Python 3"
    },
    "language_info": {
      "name": "python"
    }
  },
  "cells": [
    {
      "cell_type": "markdown",
      "metadata": {
        "id": "view-in-github",
        "colab_type": "text"
      },
      "source": [
        "<a href=\"https://colab.research.google.com/github/PabloDome/FreeCodeCamp-ScientificCompo-Python/blob/main/SolucionTorreHanoi.ipynb\" target=\"_parent\"><img src=\"https://colab.research.google.com/assets/colab-badge.svg\" alt=\"Open In Colab\"/></a>"
      ]
    },
    {
      "cell_type": "code",
      "execution_count": 11,
      "metadata": {
        "id": "8Ji9W2YFwAGN",
        "colab": {
          "base_uri": "https://localhost:8080/"
        },
        "outputId": "6fb9211f-370f-428e-b5ca-96c058de6b12"
      },
      "outputs": [
        {
          "output_type": "stream",
          "name": "stdout",
          "text": [
            "{'A': range(3, 0, -1), 'B': [], 'C': []}\n"
          ]
        }
      ],
      "source": [
        "rods = {\n",
        "    'A': list(range(3, 0, -1)),\n",
        "    'B': [],\n",
        "    'C': []\n",
        "}\n",
        "print(type(rods['A']))"
      ]
    }
  ]
}