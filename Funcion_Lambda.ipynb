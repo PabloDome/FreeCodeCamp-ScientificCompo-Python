{
  "nbformat": 4,
  "nbformat_minor": 0,
  "metadata": {
    "colab": {
      "provenance": [],
      "authorship_tag": "ABX9TyN6MS9E4el1a5Whc5VqhzSS",
      "include_colab_link": true
    },
    "kernelspec": {
      "name": "python3",
      "display_name": "Python 3"
    },
    "language_info": {
      "name": "python"
    }
  },
  "cells": [
    {
      "cell_type": "markdown",
      "metadata": {
        "id": "view-in-github",
        "colab_type": "text"
      },
      "source": [
        "<a href=\"https://colab.research.google.com/github/PabloDome/Utilidades/blob/main/Funcion_Lambda.ipynb\" target=\"_parent\"><img src=\"https://colab.research.google.com/assets/colab-badge.svg\" alt=\"Open In Colab\"/></a>"
      ]
    },
    {
      "cell_type": "code",
      "execution_count": null,
      "metadata": {
        "id": "OckdgRCOrQqJ"
      },
      "outputs": [],
      "source": [
        "def add_expense(expenses, amount, category):\n",
        "    expenses.append({'amount': amount, 'category': category})\n",
        "\n",
        "def print_expenses(expenses):\n",
        "    pass\n",
        "\n",
        "expenses = []"
      ]
    }
  ]
}