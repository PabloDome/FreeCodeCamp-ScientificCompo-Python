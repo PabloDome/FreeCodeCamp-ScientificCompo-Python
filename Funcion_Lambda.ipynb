{
  "nbformat": 4,
  "nbformat_minor": 0,
  "metadata": {
    "colab": {
      "provenance": [],
      "authorship_tag": "ABX9TyP/rr0wN8/1qMs+oo2pf55f",
      "include_colab_link": true
    },
    "kernelspec": {
      "name": "python3",
      "display_name": "Python 3"
    },
    "language_info": {
      "name": "python"
    }
  },
  "cells": [
    {
      "cell_type": "markdown",
      "metadata": {
        "id": "view-in-github",
        "colab_type": "text"
      },
      "source": [
        "<a href=\"https://colab.research.google.com/github/PabloDome/Utilidades/blob/main/Funcion_Lambda.ipynb\" target=\"_parent\"><img src=\"https://colab.research.google.com/assets/colab-badge.svg\" alt=\"Open In Colab\"/></a>"
      ]
    },
    {
      "cell_type": "code",
      "execution_count": 2,
      "metadata": {
        "id": "OckdgRCOrQqJ",
        "colab": {
          "base_uri": "https://localhost:8080/"
        },
        "outputId": "1562c19d-7fd9-4acb-b182-4f67bfac9ac4"
      },
      "outputs": [
        {
          "output_type": "stream",
          "name": "stdout",
          "text": [
            "36\n"
          ]
        }
      ],
      "source": [
        "def add_expense(expenses, amount, category):\n",
        "    expenses.append({'amount': amount, 'category': category})\n",
        "\n",
        "def print_expenses(expenses):\n",
        "    for expense in expenses:\n",
        "        print(f'Amount: {expense[\"amount\"]}, Category: {expense[\"category\"]}')\n",
        "\n",
        "def total_expenses(expenses):\n",
        "    pass\n",
        "\n",
        "test = lambda x: x * 2\n",
        "print(sum(map(test, [2, 3, 5, 8])))"
      ]
    }
  ]
}