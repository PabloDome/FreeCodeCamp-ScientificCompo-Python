{
  "nbformat": 4,
  "nbformat_minor": 0,
  "metadata": {
    "colab": {
      "provenance": [],
      "authorship_tag": "ABX9TyNblES8soxz1KfwczOX/u1F",
      "include_colab_link": true
    },
    "kernelspec": {
      "name": "python3",
      "display_name": "Python 3"
    },
    "language_info": {
      "name": "python"
    }
  },
  "cells": [
    {
      "cell_type": "markdown",
      "metadata": {
        "id": "view-in-github",
        "colab_type": "text"
      },
      "source": [
        "<a href=\"https://colab.research.google.com/github/PabloDome/FreeCodeCamp-ScientificCompo-Python/blob/main/Funcion_Lambda.ipynb\" target=\"_parent\"><img src=\"https://colab.research.google.com/assets/colab-badge.svg\" alt=\"Open In Colab\"/></a>"
      ]
    },
    {
      "cell_type": "code",
      "execution_count": null,
      "metadata": {
        "id": "OckdgRCOrQqJ"
      },
      "outputs": [],
      "source": [
        "def add_expense(expenses, amount, category):\n",
        "    expenses.append({'amount': amount, 'category': category})\n",
        "\n",
        "def print_expenses(expenses):\n",
        "    for expense in expenses:\n",
        "        print(f'Amount: {expense[\"amount\"]}, Category: {expense[\"category\"]}')\n",
        "\n",
        "def total_expenses(expenses):\n",
        "    return sum(map(lambda expense: expense['amount'], expenses))\n",
        "\n",
        "def filter_expenses_by_category(expenses, category):\n",
        "    return filter(lambda expense: expense['category'] == category, expenses)\n",
        "\n",
        "\n",
        "def main():\n",
        "    expenses = []\n",
        "    while True:\n",
        "        print('\\nExpense Tracker')\n",
        "        print('1. Add an expense')\n",
        "        print('2. List all expenses')\n",
        "        print('3. Show total expenses')\n",
        "        print('4. Filter expenses by category')\n",
        "        print('5. Exit')\n",
        "\n",
        "        choice = input('Enter your choice: ')\n",
        "\n",
        "        if choice == '1':\n",
        "            amount = float(input('Enter amount: '))\n",
        "            category = input('Enter category: ')\n",
        "            add_expense(expenses, amount, category)\n",
        "        elif choice == '2':\n",
        "            print('\\nAll Expenses:')\n",
        "            print_expenses(expenses)\n",
        "\n",
        "        elif choice == '3':\n",
        "            print('\\nTotal Expenses: ', total_expenses(expenses))\n",
        "\n",
        "        elif choice == '4':\n",
        "            category = input('Enter category to filter: ')\n",
        "            print(f'\\nExpenses for {category}:')\n",
        "            expenses_from_category = filter_expenses_by_category(expenses, category)"
      ]
    }
  ]
}