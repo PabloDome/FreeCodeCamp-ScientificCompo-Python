{
  "nbformat": 4,
  "nbformat_minor": 0,
  "metadata": {
    "colab": {
      "provenance": [],
      "authorship_tag": "ABX9TyMFLm3q4BxT8Jgq4ud2XHXm",
      "include_colab_link": true
    },
    "kernelspec": {
      "name": "python3",
      "display_name": "Python 3"
    },
    "language_info": {
      "name": "python"
    }
  },
  "cells": [
    {
      "cell_type": "markdown",
      "metadata": {
        "id": "view-in-github",
        "colab_type": "text"
      },
      "source": [
        "<a href=\"https://colab.research.google.com/github/PabloDome/Utilidades/blob/main/Codificadort_Vigenere.ipynb\" target=\"_parent\"><img src=\"https://colab.research.google.com/assets/colab-badge.svg\" alt=\"Open In Colab\"/></a>"
      ]
    },
    {
      "cell_type": "code",
      "source": [
        "text = 'Hello Zaira!'\n",
        "custom_key = 'python'\n",
        "\n",
        "def vigenere(message, key, direction=1):\n",
        "    key_index = 0\n",
        "    alphabet = 'abcdefghijklmnopqrstuvwxyz'\n",
        "    final_message = ''\n",
        "\n",
        "    for char in message.lower():\n",
        "\n",
        "        # Append any non-letter character to the message\n",
        "        if not char.isalpha():\n",
        "            final_message += char\n",
        "        else:\n",
        "            # Find the right key character to encode/decode\n",
        "            key_char = key[key_index % len(key)]\n",
        "            key_index += 1\n",
        "\n",
        "            # Define the offset and the encrypted/decrypted letter\n",
        "            offset = alphabet.index(key_char)\n",
        "            index = alphabet.find(char)\n",
        "            new_index = (index + offset*direction) % len(alphabet)\n",
        "            final_message += alphabet[new_index]\n",
        "\n",
        "    return final_message\n",
        "\n",
        "def encrypt(message, key):\n",
        "    return vigenere(message, key)\n",
        "\n",
        "def decrypt(message, key):\n",
        "    return vigenere(message, key, -1)\n",
        "\n",
        "encryption = encrypt(text, custom_key)\n",
        "print('Texto encriptado: ',encryption)\n",
        "decryption = decrypt(encryption, custom_key)\n",
        "print('Texto desencriptado: ',decryption)"
      ],
      "metadata": {
        "id": "ng80tZCLVTHD",
        "colab": {
          "base_uri": "https://localhost:8080/"
        },
        "outputId": "eb54c8aa-6bab-4839-9e7c-f03b5cb54513"
      },
      "execution_count": 2,
      "outputs": [
        {
          "output_type": "stream",
          "name": "stdout",
          "text": [
            "Texto encriptado:  wcesc mpgkh!\n",
            "Texto desencriptado:  hello zaira!\n"
          ]
        }
      ]
    }
  ]
}
