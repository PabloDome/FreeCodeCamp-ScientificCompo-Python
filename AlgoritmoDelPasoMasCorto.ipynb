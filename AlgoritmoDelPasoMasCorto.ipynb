{
  "nbformat": 4,
  "nbformat_minor": 0,
  "metadata": {
    "colab": {
      "provenance": [],
      "authorship_tag": "ABX9TyMIznZYsHXuKyjaGPvuxcEX",
      "include_colab_link": true
    },
    "kernelspec": {
      "name": "python3",
      "display_name": "Python 3"
    },
    "language_info": {
      "name": "python"
    }
  },
  "cells": [
    {
      "cell_type": "markdown",
      "metadata": {
        "id": "view-in-github",
        "colab_type": "text"
      },
      "source": [
        "<a href=\"https://colab.research.google.com/github/PabloDome/FreeCodeCamp-ScientificCompo-Python/blob/main/AlgoritmoDelPasoMasCorto.ipynb\" target=\"_parent\"><img src=\"https://colab.research.google.com/assets/colab-badge.svg\" alt=\"Open In Colab\"/></a>"
      ]
    },
    {
      "cell_type": "code",
      "execution_count": 1,
      "metadata": {
        "id": "xY03kf25Cxn7"
      },
      "outputs": [],
      "source": [
        "# Los diccionarios pueden almacenar cualquier tipo de información\n",
        "copper = {\n",
        "    'species': 'guinea pig',\n",
        "    'age': 2\n",
        "}\n",
        "\n",
        "# Usando esto voy a armar un elemento \"grafico\" que contenga las distancias entre ciertos puntos\n",
        "my_graph = {\n",
        "    'A': [('B', 3), ('D', 1)],\n",
        "    'B': [('A', 3), ('C', 4)],\n",
        "    'C': [('B', 4), ('D', 7)],\n",
        "    'D': [('A', 1), ('C', 7)]\n",
        "}\n",
        "\n",
        "def shortest_path(graph, start):\n",
        "    unvisited = []\n",
        "    distances = {}\n",
        "    for node in graph:\n",
        "        unvisited.append(node)\n",
        "        if node == start:\n",
        "            distances[node] = 0\n",
        "        else:\n",
        "            distances[node] = float('inf')\n",
        "\n",
        "    print(f'Unvisited: {unvisited}\\nDistances: {distances}')"
      ]
    }
  ]
}