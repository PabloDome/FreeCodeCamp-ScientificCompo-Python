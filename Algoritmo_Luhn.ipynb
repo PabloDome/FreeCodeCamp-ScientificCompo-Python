{
  "nbformat": 4,
  "nbformat_minor": 0,
  "metadata": {
    "colab": {
      "provenance": [],
      "authorship_tag": "ABX9TyNwXqNo9MGxmXqYJPedz+vV",
      "include_colab_link": true
    },
    "kernelspec": {
      "name": "python3",
      "display_name": "Python 3"
    },
    "language_info": {
      "name": "python"
    }
  },
  "cells": [
    {
      "cell_type": "markdown",
      "metadata": {
        "id": "view-in-github",
        "colab_type": "text"
      },
      "source": [
        "<a href=\"https://colab.research.google.com/github/PabloDome/Utilidades/blob/main/Algoritmo_Luhn.ipynb\" target=\"_parent\"><img src=\"https://colab.research.google.com/assets/colab-badge.svg\" alt=\"Open In Colab\"/></a>"
      ]
    },
    {
      "cell_type": "code",
      "execution_count": null,
      "metadata": {
        "id": "yo8nDT8VetiS"
      },
      "outputs": [],
      "source": [
        "def main():\n",
        "    card_number = '4111-1111-4555-1142'\n",
        "    card_translation = str.maketrans({'-': '', ' ': ''})\n",
        "    translated_card_number = card_number.translate(card_translation)"
      ]
    }
  ]
}