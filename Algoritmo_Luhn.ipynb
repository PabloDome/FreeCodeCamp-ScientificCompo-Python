{
  "nbformat": 4,
  "nbformat_minor": 0,
  "metadata": {
    "colab": {
      "provenance": [],
      "authorship_tag": "ABX9TyOfYkNdr6vVUwU4M1KVNA2j",
      "include_colab_link": true
    },
    "kernelspec": {
      "name": "python3",
      "display_name": "Python 3"
    },
    "language_info": {
      "name": "python"
    }
  },
  "cells": [
    {
      "cell_type": "markdown",
      "metadata": {
        "id": "view-in-github",
        "colab_type": "text"
      },
      "source": [
        "<a href=\"https://colab.research.google.com/github/PabloDome/Utilidades/blob/main/Algoritmo_Luhn.ipynb\" target=\"_parent\"><img src=\"https://colab.research.google.com/assets/colab-badge.svg\" alt=\"Open In Colab\"/></a>"
      ]
    },
    {
      "cell_type": "code",
      "execution_count": 1,
      "metadata": {
        "id": "yo8nDT8VetiS",
        "colab": {
          "base_uri": "https://localhost:8080/"
        },
        "outputId": "8fd7c5a1-3969-48da-c957-5743648a9e95"
      },
      "outputs": [
        {
          "output_type": "stream",
          "name": "stdout",
          "text": [
            "4111111145551142\n"
          ]
        }
      ],
      "source": [
        "def verify_card_number(card_number):\n",
        "    sum_of_odd_digits = 0\n",
        "    card_number_reversed = card_number[::-1]\n",
        "    print(card_number_reversed)\n",
        "\n",
        "def main():\n",
        "    card_number = '4111-1111-4555-1142'\n",
        "    card_translation = str.maketrans({'-': '', ' ': ''})\n",
        "    translated_card_number = card_number.translate(card_translation)\n",
        "\n",
        "    print(translated_card_number)\n",
        "\n",
        "main()"
      ]
    }
  ]
}