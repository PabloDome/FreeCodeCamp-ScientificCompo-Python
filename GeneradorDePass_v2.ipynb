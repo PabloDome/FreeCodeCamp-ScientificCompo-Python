{
  "nbformat": 4,
  "nbformat_minor": 0,
  "metadata": {
    "colab": {
      "provenance": [],
      "authorship_tag": "ABX9TyOXed8iwG2+E9+fux3B97TQ",
      "include_colab_link": true
    },
    "kernelspec": {
      "name": "python3",
      "display_name": "Python 3"
    },
    "language_info": {
      "name": "python"
    }
  },
  "cells": [
    {
      "cell_type": "markdown",
      "metadata": {
        "id": "view-in-github",
        "colab_type": "text"
      },
      "source": [
        "<a href=\"https://colab.research.google.com/github/PabloDome/FreeCodeCamp-ScientificCompo-Python/blob/main/GeneradorDePass_v2.ipynb\" target=\"_parent\"><img src=\"https://colab.research.google.com/assets/colab-badge.svg\" alt=\"Open In Colab\"/></a>"
      ]
    },
    {
      "cell_type": "code",
      "execution_count": 4,
      "metadata": {
        "colab": {
          "base_uri": "https://localhost:8080/"
        },
        "id": "10Jdt5zpooGV",
        "outputId": "438a2891-a8b3-4733-9eeb-904b4f09cf13"
      },
      "outputs": [
        {
          "output_type": "stream",
          "name": "stdout",
          "text": [
            "+mo,y6S{\n"
          ]
        }
      ],
      "source": [
        "import re\n",
        "import secrets\n",
        "import string\n",
        "\n",
        "\n",
        "def generate_password(length=16, nums=1, special_chars=1, uppercase=1, lowercase=1):\n",
        "    # Define the possible characters for the password\n",
        "    letters = string.ascii_letters\n",
        "    digits = string.digits\n",
        "    symbols = string.punctuation\n",
        "\n",
        "    # Combine all characters\n",
        "    all_characters = letters + digits + symbols\n",
        "\n",
        "    while True:\n",
        "        password = ''\n",
        "        # Generate password\n",
        "        for _ in range(length):\n",
        "            password += secrets.choice(all_characters)\n",
        "\n",
        "        constraints = [\n",
        "            (nums, r'\\d'),\n",
        "            (lowercase, r'[a-z]'),\n",
        "            (uppercase, r'[A-Z]'),\n",
        "            (special_chars, fr'[{symbols}]')\n",
        "        ]\n",
        "\n",
        "        # Check constraints\n",
        "        if all(\n",
        "            constraint <= len(re.findall(pattern, password))\n",
        "            for constraint, pattern in constraints\n",
        "        ):\n",
        "            break\n",
        "\n",
        "    return password\n",
        "\n",
        "new_password = generate_password(nums=1, length=8, special_chars=1, uppercase=1, lowercase=1)\n",
        "print(new_password)"
      ]
    }
  ]
}