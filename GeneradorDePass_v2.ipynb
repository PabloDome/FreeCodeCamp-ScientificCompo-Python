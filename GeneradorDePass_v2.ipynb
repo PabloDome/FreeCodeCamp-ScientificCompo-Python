{
  "nbformat": 4,
  "nbformat_minor": 0,
  "metadata": {
    "colab": {
      "provenance": [],
      "authorship_tag": "ABX9TyN6ar7W1P3DLb+iS6sedLpB",
      "include_colab_link": true
    },
    "kernelspec": {
      "name": "python3",
      "display_name": "Python 3"
    },
    "language_info": {
      "name": "python"
    }
  },
  "cells": [
    {
      "cell_type": "markdown",
      "metadata": {
        "id": "view-in-github",
        "colab_type": "text"
      },
      "source": [
        "<a href=\"https://colab.research.google.com/github/PabloDome/FreeCodeCamp-ScientificCompo-Python/blob/main/GeneradorDePass_v2.ipynb\" target=\"_parent\"><img src=\"https://colab.research.google.com/assets/colab-badge.svg\" alt=\"Open In Colab\"/></a>"
      ]
    },
    {
      "cell_type": "code",
      "execution_count": 1,
      "metadata": {
        "colab": {
          "base_uri": "https://localhost:8080/"
        },
        "id": "10Jdt5zpooGV",
        "outputId": "884bf8a8-ed91-4173-e3f4-647face8c95c"
      },
      "outputs": [
        {
          "output_type": "stream",
          "name": "stdout",
          "text": [
            "!\"#$%&'()*+,-./:;<=>?@[\\]^_`{|}~\n"
          ]
        }
      ],
      "source": [
        "import re\n",
        "import secrets\n",
        "import string\n",
        "\n",
        "\n",
        "def generate_password(length, nums, special_chars, uppercase, lowercase):\n",
        "    # Define the possible characters for the password\n",
        "    letters = string.ascii_letters\n",
        "    digits = string.digits\n",
        "    symbols = string.punctuation\n",
        "\n",
        "    # Combine all characters\n",
        "    all_characters = letters + digits + symbols\n",
        "\n",
        "    while True:\n",
        "        password = ''\n",
        "        # Generate password\n",
        "        for _ in range(length):\n",
        "            password += secrets.choice(all_characters)\n",
        "        constraints = [\n",
        "            (nums, '[0-9]'),\n",
        "            (lowercase, '[a-z]'),\n",
        "            (uppercase, '[A-Z]')\n",
        "        ]\n",
        "\n",
        "    return password\n",
        "\n",
        "# new_password = generate_password(8)\n",
        "# print(new_password)\n",
        "\n",
        "pattern = '[^a-z]t'\n",
        "quote = 'Not all those who wander are lost.'\n",
        "# print(re.findall(pattern, quote))\n",
        "\n",
        "print(string.punctuation)"
      ]
    }
  ]
}