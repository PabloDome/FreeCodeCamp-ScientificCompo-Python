{
  "nbformat": 4,
  "nbformat_minor": 0,
  "metadata": {
    "colab": {
      "provenance": [],
      "authorship_tag": "ABX9TyMeYIfLeXsdyisvstOVpV8H",
      "include_colab_link": true
    },
    "kernelspec": {
      "name": "python3",
      "display_name": "Python 3"
    },
    "language_info": {
      "name": "python"
    }
  },
  "cells": [
    {
      "cell_type": "markdown",
      "metadata": {
        "id": "view-in-github",
        "colab_type": "text"
      },
      "source": [
        "<a href=\"https://colab.research.google.com/github/PabloDome/FreeCodeCamp-ScientificCompo-Python/blob/main/GeneradorDePass_v2.ipynb\" target=\"_parent\"><img src=\"https://colab.research.google.com/assets/colab-badge.svg\" alt=\"Open In Colab\"/></a>"
      ]
    },
    {
      "cell_type": "code",
      "execution_count": 6,
      "metadata": {
        "colab": {
          "base_uri": "https://localhost:8080/"
        },
        "id": "10Jdt5zpooGV",
        "outputId": "dbe1ab1a-0029-4bd4-d01d-ff4a0f230037"
      },
      "outputs": [
        {
          "output_type": "stream",
          "name": "stdout",
          "text": [
            "Generated password: =#R%'XoSaQjnH01?\n"
          ]
        }
      ],
      "source": [
        "import re\n",
        "import secrets\n",
        "import string\n",
        "\n",
        "\n",
        "def generate_password(length=16, nums=1, special_chars=1, uppercase=1, lowercase=1):\n",
        "    # Define the possible characters for the password\n",
        "    letters = string.ascii_letters\n",
        "    digits = string.digits\n",
        "    symbols = string.punctuation\n",
        "\n",
        "    # Combine all characters\n",
        "    all_characters = letters + digits + symbols\n",
        "\n",
        "    while True:\n",
        "        password = ''\n",
        "        # Generate password\n",
        "        for _ in range(length):\n",
        "            password += secrets.choice(all_characters)\n",
        "\n",
        "        constraints = [\n",
        "            (nums, r'\\d'),\n",
        "            (lowercase, r'[a-z]'),\n",
        "            (uppercase, r'[A-Z]'),\n",
        "            (special_chars, fr'[{symbols}]')\n",
        "        ]\n",
        "\n",
        "        # Check constraints\n",
        "        if all(\n",
        "            constraint <= len(re.findall(pattern, password))\n",
        "            for constraint, pattern in constraints\n",
        "        ):\n",
        "            break\n",
        "\n",
        "    return password\n",
        "\n",
        "if __name__ == '__main__':\n",
        "\n",
        "    new_password = generate_password()\n",
        "    print('Generated password:', new_password)"
      ]
    }
  ]
}