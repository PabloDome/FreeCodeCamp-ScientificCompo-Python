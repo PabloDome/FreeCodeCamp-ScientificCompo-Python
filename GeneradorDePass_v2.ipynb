{
  "nbformat": 4,
  "nbformat_minor": 0,
  "metadata": {
    "colab": {
      "provenance": [],
      "authorship_tag": "ABX9TyOwgcGGqlQE0B2+lFcpW1qQ",
      "include_colab_link": true
    },
    "kernelspec": {
      "name": "python3",
      "display_name": "Python 3"
    },
    "language_info": {
      "name": "python"
    }
  },
  "cells": [
    {
      "cell_type": "markdown",
      "metadata": {
        "id": "view-in-github",
        "colab_type": "text"
      },
      "source": [
        "<a href=\"https://colab.research.google.com/github/PabloDome/FreeCodeCamp-ScientificCompo-Python/blob/main/GeneradorDePass_v2.ipynb\" target=\"_parent\"><img src=\"https://colab.research.google.com/assets/colab-badge.svg\" alt=\"Open In Colab\"/></a>"
      ]
    },
    {
      "cell_type": "code",
      "execution_count": null,
      "metadata": {
        "id": "10Jdt5zpooGV"
      },
      "outputs": [],
      "source": [
        "import re\n",
        "import secrets\n",
        "import string\n",
        "\n",
        "\n",
        "def generate_password(length, nums, special_chars, uppercase, lowercase):\n",
        "    # Define the possible characters for the password\n",
        "    letters = string.ascii_letters\n",
        "    digits = string.digits\n",
        "    symbols = string.punctuation\n",
        "\n",
        "    # Combine all characters\n",
        "    all_characters = letters + digits + symbols\n",
        "\n",
        "    while True:\n",
        "        password = ''\n",
        "        # Generate password\n",
        "        for _ in range(length):\n",
        "            password += secrets.choice(all_characters)\n",
        "\n",
        "        constraints = [\n",
        "            (nums, '')\n",
        "        ]\n",
        "\n",
        "    return password\n",
        "\n",
        "# new_password = generate_password(8)\n",
        "# print(new_password)\n",
        "\n",
        "pattern = re.compile('l+')\n",
        "quote = 'Not all those who wander are lost.'\n",
        "print(pattern.search(quote))"
      ]
    }
  ]
}