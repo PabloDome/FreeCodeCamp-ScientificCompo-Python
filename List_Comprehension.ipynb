{
  "nbformat": 4,
  "nbformat_minor": 0,
  "metadata": {
    "colab": {
      "provenance": [],
      "authorship_tag": "ABX9TyOZd9e4byUAspKH+Lg2pf+h",
      "include_colab_link": true
    },
    "kernelspec": {
      "name": "python3",
      "display_name": "Python 3"
    },
    "language_info": {
      "name": "python"
    }
  },
  "cells": [
    {
      "cell_type": "markdown",
      "metadata": {
        "id": "view-in-github",
        "colab_type": "text"
      },
      "source": [
        "<a href=\"https://colab.research.google.com/github/PabloDome/FreeCodeCamp-ScientificCompo-Python/blob/main/List_Comprehension.ipynb\" target=\"_parent\"><img src=\"https://colab.research.google.com/assets/colab-badge.svg\" alt=\"Open In Colab\"/></a>"
      ]
    },
    {
      "cell_type": "code",
      "execution_count": 2,
      "metadata": {
        "colab": {
          "base_uri": "https://localhost:8080/"
        },
        "id": "nxFMjjby94D7",
        "outputId": "6856bf0b-544f-4094-bb23-42d533e3dee9"
      },
      "outputs": [
        {
          "output_type": "stream",
          "name": "stdout",
          "text": [
            "lo_que_escriba_en_mayuscula_se_separa\n"
          ]
        }
      ],
      "source": [
        "def convert_to_snake_case(pascal_or_camel_cased_string):\n",
        "\n",
        "    snake_cased_char_list = [\n",
        "        '_' + char.lower() if char.isupper()\n",
        "        else char\n",
        "        for char in pascal_or_camel_cased_string\n",
        "    ]\n",
        "\n",
        "    return ''.join(snake_cased_char_list).strip('_')\n",
        "\n",
        "def main():\n",
        "    print(convert_to_snake_case('LoQueEscribaEnMayusculaSeSepara'))\n",
        "\n",
        "if __name__ == '__main__':\n",
        "    main()"
      ]
    }
  ]
}