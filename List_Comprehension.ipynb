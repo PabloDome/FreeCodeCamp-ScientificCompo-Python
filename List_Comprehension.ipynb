{
  "nbformat": 4,
  "nbformat_minor": 0,
  "metadata": {
    "colab": {
      "provenance": [],
      "authorship_tag": "ABX9TyONb9Xgpp0MCfchd7YctEtH",
      "include_colab_link": true
    },
    "kernelspec": {
      "name": "python3",
      "display_name": "Python 3"
    },
    "language_info": {
      "name": "python"
    }
  },
  "cells": [
    {
      "cell_type": "markdown",
      "metadata": {
        "id": "view-in-github",
        "colab_type": "text"
      },
      "source": [
        "<a href=\"https://colab.research.google.com/github/PabloDome/FreeCodeCamp-ScientificCompo-Python/blob/main/List_Comprehension.ipynb\" target=\"_parent\"><img src=\"https://colab.research.google.com/assets/colab-badge.svg\" alt=\"Open In Colab\"/></a>"
      ]
    },
    {
      "cell_type": "code",
      "execution_count": null,
      "metadata": {
        "id": "nxFMjjby94D7"
      },
      "outputs": [],
      "source": [
        "def convert_to_snake_case(pascal_or_camel_cased_string):\n",
        "    snake_cased_char_list = []\n",
        "    for char in pascal_or_camel_cased_string:\n",
        "        if char.isupper():\n",
        "            converted_character = '_' + char.lower()\n",
        "            snake_cased_char_list.append(converted_character)\n",
        "        else:\n",
        "            snake_cased_char_list.append(char)\n",
        "    snake_cased_string = ''.join(snake_cased_char_list)\n",
        "    clean_snake_cased_string = snake_cased_string.strip('_')\n",
        "\n",
        "    return clean_snake_cased_string"
      ]
    }
  ]
}