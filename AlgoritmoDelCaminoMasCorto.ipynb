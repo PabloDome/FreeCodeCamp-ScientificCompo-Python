{
  "nbformat": 4,
  "nbformat_minor": 0,
  "metadata": {
    "colab": {
      "provenance": [],
      "authorship_tag": "ABX9TyO+0n6ofB2c7io9aKz72+yb",
      "include_colab_link": true
    },
    "kernelspec": {
      "name": "python3",
      "display_name": "Python 3"
    },
    "language_info": {
      "name": "python"
    }
  },
  "cells": [
    {
      "cell_type": "markdown",
      "metadata": {
        "id": "view-in-github",
        "colab_type": "text"
      },
      "source": [
        "<a href=\"https://colab.research.google.com/github/PabloDome/FreeCodeCamp-ScientificCompo-Python/blob/main/AlgoritmoDelCaminoMasCorto.ipynb\" target=\"_parent\"><img src=\"https://colab.research.google.com/assets/colab-badge.svg\" alt=\"Open In Colab\"/></a>"
      ]
    },
    {
      "cell_type": "code",
      "execution_count": 5,
      "metadata": {
        "colab": {
          "base_uri": "https://localhost:8080/"
        },
        "id": "xY03kf25Cxn7",
        "outputId": "3eec53d2-94aa-46f8-9e9a-b3c9b031e89a"
      },
      "outputs": [
        {
          "output_type": "stream",
          "name": "stdout",
          "text": [
            "***Camino hacia todos los puntos***\n",
            "\n",
            "A-B distance: 4\n",
            "Path: A -> C -> B\n",
            "\n",
            "A-C distance: 3\n",
            "Path: A -> C\n",
            "\n",
            "A-D distance: 4\n",
            "Path: A -> C -> D\n",
            "\n",
            "A-E distance: 8\n",
            "Path: A -> C -> E\n",
            "\n",
            "A-F distance: 6\n",
            "Path: A -> C -> B -> F\n",
            "\n",
            "***Solo dos puntos***\n",
            "\n",
            "A-B distance: 4\n",
            "Path: A -> C -> B\n"
          ]
        },
        {
          "output_type": "execute_result",
          "data": {
            "text/plain": [
              "({'A': 0, 'B': 4, 'C': 3, 'D': 4, 'E': 8, 'F': 6},\n",
              " {'A': ['A'],\n",
              "  'B': ['A', 'C', 'B'],\n",
              "  'C': ['A', 'C'],\n",
              "  'D': ['A', 'C', 'D'],\n",
              "  'E': ['A', 'C', 'E'],\n",
              "  'F': ['A', 'C', 'B', 'F']})"
            ]
          },
          "metadata": {},
          "execution_count": 5
        }
      ],
      "source": [
        "# Los diccionarios pueden almacenar cualquier tipo de información\n",
        "copper = {\n",
        "    'species': 'guinea pig',\n",
        "    'age': 2\n",
        "}\n",
        "\n",
        "# Usando esto voy a armar un elemento \"grafico\" que contenga las distancias entre ciertos puntos\n",
        "my_graph = {\n",
        "    'A': [('B', 5), ('C', 3), ('E', 11)],\n",
        "    'B': [('A', 5), ('C', 1), ('F', 2)],\n",
        "    'C': [('A', 3), ('B', 1), ('D', 1), ('E', 5)],\n",
        "    'D': [('C',1 ), ('E', 9), ('F', 3)],\n",
        "    'E': [('A', 11), ('C', 5), ('D', 9)],\n",
        "    'F': [('B', 2), ('D', 3)]\n",
        "}\n",
        "\n",
        "def shortest_path(graph, start, target = ''):\n",
        "    unvisited = list(graph)\n",
        "    distances = {node: 0 if node == start else float('inf') for node in graph}\n",
        "    paths = {node: [] for node in graph}\n",
        "    paths[start].append(start)\n",
        "\n",
        "    while unvisited:\n",
        "        current = min(unvisited, key=distances.get)\n",
        "        for node, distance in graph[current]:\n",
        "            if distance + distances[current] < distances[node]:\n",
        "                distances[node] = distance + distances[current]\n",
        "                if paths[node] and paths[node][-1] == node:\n",
        "                    paths[node] = paths[current][:]\n",
        "                else:\n",
        "                    paths[node].extend(paths[current])\n",
        "                paths[node].append(node)\n",
        "        unvisited.remove(current)\n",
        "\n",
        "    targets_to_print = [target] if target else graph\n",
        "    for node in targets_to_print:\n",
        "        if node == start:\n",
        "            continue\n",
        "        print(f'\\n{start}-{node} distance: {distances[node]}\\nPath: {\" -> \".join(paths[node])}')\n",
        "\n",
        "    return distances, paths\n",
        "\n",
        "print('***Camino hacia todos los puntos***')\n",
        "shortest_path(my_graph, 'A')\n",
        "\n",
        "# Si quiero desde un punto 'A' a un 'B'\n",
        "print('\\n***Solo dos puntos***')\n",
        "shortest_path(my_graph, 'A', 'B')"
      ]
    }
  ]
}