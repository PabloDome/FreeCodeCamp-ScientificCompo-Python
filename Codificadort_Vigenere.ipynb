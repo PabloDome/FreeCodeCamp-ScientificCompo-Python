{
  "nbformat": 4,
  "nbformat_minor": 0,
  "metadata": {
    "colab": {
      "provenance": [],
      "authorship_tag": "ABX9TyMFXVJ+qkoeNhsvtmmnhMcp",
      "include_colab_link": true
    },
    "kernelspec": {
      "name": "python3",
      "display_name": "Python 3"
    },
    "language_info": {
      "name": "python"
    }
  },
  "cells": [
    {
      "cell_type": "markdown",
      "metadata": {
        "id": "view-in-github",
        "colab_type": "text"
      },
      "source": [
        "<a href=\"https://colab.research.google.com/github/PabloDome/Utilidades/blob/main/Codificadort_Vigenere.ipynb\" target=\"_parent\"><img src=\"https://colab.research.google.com/assets/colab-badge.svg\" alt=\"Open In Colab\"/></a>"
      ]
    },
    {
      "cell_type": "code",
      "source": [
        "text = 'Hello Zaira'\n",
        "custom_key = 'python'\n",
        "\n",
        "def vigenere(message, key):\n",
        "    key_index = 0\n",
        "    alphabet = 'abcdefghijklmnopqrstuvwxyz'\n",
        "    encrypted_text = ''\n",
        "\n",
        "    for char in message.lower():\n",
        "\n",
        "        # Append space to the message\n",
        "        if char == ' ':\n",
        "            encrypted_text += char\n",
        "        else:\n",
        "            # Find the right key character to encode\n",
        "            key_char = key[key_index % len(key)]\n",
        "            key_index += 1\n",
        "\n",
        "            # Define the offset and the encrypted letter\n",
        "            offset = alphabet.index(key_char)\n",
        "            index = alphabet.find(char)\n",
        "            new_index = (index + offset) % len(alphabet)\n",
        "            encrypted_text += alphabet[new_index]\n",
        "\n",
        "    return encrypted_text\n",
        "\n",
        "encrypted_text = vigenere(text, custom_key)\n",
        "\n",
        "print('text: ',text)\n",
        "print('encrypted text: ',encrypted_text)"
      ],
      "metadata": {
        "id": "ng80tZCLVTHD",
        "colab": {
          "base_uri": "https://localhost:8080/"
        },
        "outputId": "a6823e98-7385-4944-e932-881263286ecf"
      },
      "execution_count": 1,
      "outputs": [
        {
          "output_type": "stream",
          "name": "stdout",
          "text": [
            "text:  Hello Zaira\n",
            "encrypted text:  wcesc mpgkh\n"
          ]
        }
      ]
    }
  ]
}