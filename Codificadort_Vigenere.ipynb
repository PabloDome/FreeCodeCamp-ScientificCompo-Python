{
  "nbformat": 4,
  "nbformat_minor": 0,
  "metadata": {
    "colab": {
      "provenance": [],
      "authorship_tag": "ABX9TyPD1HM8eU8EwaQGy9UULFJp",
      "include_colab_link": true
    },
    "kernelspec": {
      "name": "python3",
      "display_name": "Python 3"
    },
    "language_info": {
      "name": "python"
    }
  },
  "cells": [
    {
      "cell_type": "markdown",
      "metadata": {
        "id": "view-in-github",
        "colab_type": "text"
      },
      "source": [
        "<a href=\"https://colab.research.google.com/github/PabloDome/Utilidades/blob/main/Codificadort_Vigenere.ipynb\" target=\"_parent\"><img src=\"https://colab.research.google.com/assets/colab-badge.svg\" alt=\"Open In Colab\"/></a>"
      ]
    },
    {
      "cell_type": "code",
      "source": [
        "text = 'Hello Zaira'\n",
        "custom_key = 'python'\n",
        "\n",
        "def vigenere(message, key):\n",
        "    key_index = 0\n",
        "    alphabet = 'abcdefghijklmnopqrstuvwxyz'\n",
        "    encrypted_text = ''\n",
        "\n",
        "    for char in message.lower():\n",
        "        # Append space to the message\n",
        "        if char == ' ':\n",
        "            encrypted_text += char\n",
        "        else:\n",
        "\n",
        "            key_char = key[key_index % len(key)]\n",
        "            key_index += 1\n",
        "            index = alphabet.find(char)\n",
        "            new_index = (index + offset) % len(alphabet)\n",
        "            encrypted_text += alphabet[new_index]\n",
        "    print('plain text:', message)\n",
        "    print('encrypted text:', encrypted_text)"
      ],
      "metadata": {
        "id": "ng80tZCLVTHD"
      },
      "execution_count": 1,
      "outputs": []
    }
  ]
}