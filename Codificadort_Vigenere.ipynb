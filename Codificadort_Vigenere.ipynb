{
  "nbformat": 4,
  "nbformat_minor": 0,
  "metadata": {
    "colab": {
      "provenance": [],
      "authorship_tag": "ABX9TyNYPOljdinrmwny6xbxdmqv",
      "include_colab_link": true
    },
    "kernelspec": {
      "name": "python3",
      "display_name": "Python 3"
    },
    "language_info": {
      "name": "python"
    }
  },
  "cells": [
    {
      "cell_type": "markdown",
      "metadata": {
        "id": "view-in-github",
        "colab_type": "text"
      },
      "source": [
        "<a href=\"https://colab.research.google.com/github/PabloDome/Utilidades/blob/main/Codificadort_Vigenere.ipynb\" target=\"_parent\"><img src=\"https://colab.research.google.com/assets/colab-badge.svg\" alt=\"Open In Colab\"/></a>"
      ]
    },
    {
      "cell_type": "code",
      "source": [
        "text = 'Hello Zaira'\n",
        "custom_key = 'python'\n",
        "\n",
        "def vigenere(message, key, direction):\n",
        "    key_index = 0\n",
        "    alphabet = 'abcdefghijklmnopqrstuvwxyz'\n",
        "    encrypted_text = ''\n",
        "\n",
        "    for char in message.lower():\n",
        "\n",
        "        # Append space to the message\n",
        "        if char == ' ':\n",
        "            encrypted_text += char\n",
        "        else:\n",
        "            # Find the right key character to encode\n",
        "            key_char = key[key_index % len(key)]\n",
        "            key_index += 1\n",
        "\n",
        "            # Define the offset and the encrypted letter\n",
        "            offset = alphabet.index(key_char)\n",
        "            index = alphabet.find(char)\n",
        "            new_index = (index + offset*direction) % len(alphabet)\n",
        "            encrypted_text += alphabet[new_index]\n",
        "\n",
        "    return encrypted_text\n",
        "\n",
        "encryption = vigenere(text, custom_key, 1)\n",
        "print('Texto original:', text)\n",
        "print('Texto encriptado', encryption)\n",
        "decryption = vigenere(encryption, custom_key, -1)\n",
        "print('Texto decriptado', decryption)"
      ],
      "metadata": {
        "id": "ng80tZCLVTHD",
        "colab": {
          "base_uri": "https://localhost:8080/"
        },
        "outputId": "e6ba4c01-0a85-44e5-9df5-222db62aa93d"
      },
      "execution_count": 2,
      "outputs": [
        {
          "output_type": "stream",
          "name": "stdout",
          "text": [
            "Texto original: Hello Zaira\n",
            "Texto encriptado wcesc mpgkh\n",
            "Texto decriptado hello zaira\n"
          ]
        }
      ]
    }
  ]
}